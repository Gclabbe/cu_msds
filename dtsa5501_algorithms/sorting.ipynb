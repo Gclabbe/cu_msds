{
 "cells": [
  {
   "cell_type": "code",
   "execution_count": 14,
   "id": "cdb21133-e403-4c18-8a6b-0efd75aa266a",
   "metadata": {},
   "outputs": [],
   "source": [
    "import pandas as pd\n",
    "import time\n"
   ]
  },
  {
   "cell_type": "markdown",
   "id": "8a33fcf4-ce7b-4fcf-9b2b-76b6cf60fbb7",
   "metadata": {},
   "source": [
    "## Insertion sorting\n",
    "\n",
    "### pseudo-code (descending search)\n",
    "insert(j)\n",
    "    n = length(j)\n",
    "    for i in n downto 1:\n",
    "        "
   ]
  },
  {
   "cell_type": "code",
   "execution_count": 15,
   "id": "fa4d0897-39a7-4028-9100-dffc3cee4137",
   "metadata": {},
   "outputs": [],
   "source": [
    "def swap_values(array, position_1, position_2):\n",
    "    array[position_1], array[position_2] = array[position_2], array[position_1]\n",
    "    return array\n",
    "\n",
    "\n",
    "def insertion_sort(to_sort, order='asc'):\n",
    "    swap = False\n",
    "    start_time = time.time()\n",
    "    \n",
    "    for this_position in range(1, len(to_sort)):\n",
    "        for i in range(this_position, 0, -1):\n",
    "            # print(to_sort[i-1], to_sort[i])\n",
    "            if order == 'asc' and to_sort[i-1] > to_sort[i]:\n",
    "                swap = True\n",
    "            elif order == 'desc' and to_sort[i-1] < to_sort[i]:\n",
    "                swap = True\n",
    "\n",
    "            if swap:\n",
    "                to_sort = swap_values(to_sort, i, i-1)\n",
    "                swap = False\n",
    "            else:\n",
    "                break\n",
    "            \n",
    "    end_time = time.time()\n",
    "    \n",
    "    return to_sort, end_time - start_time\n"
   ]
  },
  {
   "cell_type": "code",
   "execution_count": 16,
   "id": "b16e67ed-d8a0-4239-b130-72462c181d34",
   "metadata": {
    "tags": []
   },
   "outputs": [],
   "source": [
    "sort_length = 10\n",
    "\n",
    "to_sort_asc = list(range(1, sort_length+1))\n",
    "to_sort_desc = list(range(sort_length, 0, -1))\n",
    "# print(list(range(len(to_sort_asc))))\n",
    "# print(list(range(len(to_sort_desc))))\n"
   ]
  },
  {
   "cell_type": "code",
   "execution_count": 17,
   "id": "6764f906-904c-4129-be7e-3e2044a1d31e",
   "metadata": {},
   "outputs": [
    {
     "name": "stdout",
     "output_type": "stream",
     "text": [
      "Insertion Sort Ascending\n",
      "\tBest case = 0.0\n",
      "\tWorst case = 0.0\n"
     ]
    }
   ],
   "source": [
    "def insertion_asc():\n",
    "    print(\"Insertion Sort Ascending\")\n",
    "\n",
    "    results = insertion_sort(to_sort_asc.copy(), order='asc')\n",
    "    print(f\"\\tBest case = {results[1]}\")\n",
    "\n",
    "    results = insertion_sort(to_sort_desc.copy(), order='asc')\n",
    "    print(f\"\\tWorst case = {results[1]}\")\n",
    "\n",
    "insertion_asc()\n"
   ]
  },
  {
   "cell_type": "code",
   "execution_count": 18,
   "id": "4c9f9642-2a0c-4966-a392-2435ff1b8a01",
   "metadata": {},
   "outputs": [
    {
     "name": "stdout",
     "output_type": "stream",
     "text": [
      "Insertion Sort Descending\n",
      "\tWorst case = 0.0\n",
      "\tBest case = 0.0\n"
     ]
    }
   ],
   "source": [
    "def insertion_desc():\n",
    "    print(\"Insertion Sort Descending\")\n",
    "\n",
    "    # print(to_sort_asc)\n",
    "    results = insertion_sort(to_sort_asc.copy(), order='desc')\n",
    "    print(f\"\\tWorst case = {results[1]}\")\n",
    "\n",
    "    results = insertion_sort(to_sort_desc.copy(), order='desc')\n",
    "    print(f\"\\tBest case = {results[1]}\")\n",
    "\n",
    "insertion_desc()\n"
   ]
  },
  {
   "cell_type": "code",
   "execution_count": 20,
   "id": "3bba3d5f-7915-4cf4-94e9-40fd79485257",
   "metadata": {},
   "outputs": [
    {
     "name": "stdout",
     "output_type": "stream",
     "text": [
      "[[1, 2, 3, 4, 5]]\n"
     ]
    },
    {
     "ename": "TypeError",
     "evalue": "'<=' not supported between instances of 'float' and 'list'",
     "output_type": "error",
     "traceback": [
      "\u001b[1;31m---------------------------------------------------------------------------\u001b[0m",
      "\u001b[1;31mTypeError\u001b[0m                                 Traceback (most recent call last)",
      "\u001b[1;32m<ipython-input-20-67b1f6682365>\u001b[0m in \u001b[0;36m<module>\u001b[1;34m\u001b[0m\n\u001b[0;32m     27\u001b[0m     \u001b[1;32mreturn\u001b[0m \u001b[0mfinal_sort\u001b[0m\u001b[1;33m\u001b[0m\u001b[1;33m\u001b[0m\u001b[0m\n\u001b[0;32m     28\u001b[0m \u001b[1;33m\u001b[0m\u001b[0m\n\u001b[1;32m---> 29\u001b[1;33m \u001b[0mmerge_sort\u001b[0m\u001b[1;33m(\u001b[0m\u001b[0mto_sort_asc\u001b[0m\u001b[1;33m.\u001b[0m\u001b[0mcopy\u001b[0m\u001b[1;33m(\u001b[0m\u001b[1;33m)\u001b[0m\u001b[1;33m)\u001b[0m\u001b[1;33m\u001b[0m\u001b[1;33m\u001b[0m\u001b[0m\n\u001b[0m",
      "\u001b[1;32m<ipython-input-20-67b1f6682365>\u001b[0m in \u001b[0;36mmerge_sort\u001b[1;34m(to_sort)\u001b[0m\n\u001b[0;32m     14\u001b[0m \u001b[1;33m\u001b[0m\u001b[0m\n\u001b[0;32m     15\u001b[0m     \u001b[1;32mwhile\u001b[0m \u001b[0ms1_counter\u001b[0m \u001b[1;33m<\u001b[0m \u001b[0mlen\u001b[0m\u001b[1;33m(\u001b[0m\u001b[0msorted_1\u001b[0m\u001b[1;33m)\u001b[0m\u001b[1;33m:\u001b[0m\u001b[1;33m\u001b[0m\u001b[1;33m\u001b[0m\u001b[0m\n\u001b[1;32m---> 16\u001b[1;33m         \u001b[1;32mif\u001b[0m \u001b[0msorted_1\u001b[0m\u001b[1;33m[\u001b[0m\u001b[0ms1_counter\u001b[0m\u001b[1;33m]\u001b[0m \u001b[1;33m<=\u001b[0m \u001b[0msorted_2\u001b[0m\u001b[1;33m[\u001b[0m\u001b[0ms2_counter\u001b[0m\u001b[1;33m]\u001b[0m\u001b[1;33m:\u001b[0m\u001b[1;33m\u001b[0m\u001b[1;33m\u001b[0m\u001b[0m\n\u001b[0m\u001b[0;32m     17\u001b[0m             \u001b[0mfinal_sort\u001b[0m\u001b[1;33m[\u001b[0m\u001b[0mposition\u001b[0m\u001b[1;33m]\u001b[0m \u001b[1;33m=\u001b[0m \u001b[0msorted_1\u001b[0m\u001b[1;33m[\u001b[0m\u001b[0ms1_counter\u001b[0m\u001b[1;33m]\u001b[0m\u001b[1;33m\u001b[0m\u001b[1;33m\u001b[0m\u001b[0m\n\u001b[0;32m     18\u001b[0m             \u001b[0ms1_counter\u001b[0m \u001b[1;33m+=\u001b[0m \u001b[1;36m1\u001b[0m\u001b[1;33m\u001b[0m\u001b[1;33m\u001b[0m\u001b[0m\n",
      "\u001b[1;31mTypeError\u001b[0m: '<=' not supported between instances of 'float' and 'list'"
     ]
    }
   ],
   "source": [
    "def merge_sort(to_sort):\n",
    "    sort_length = int(len(to_sort)/2)\n",
    "    \n",
    "    to_sort_1 = to_sort[:sort_length]\n",
    "    to_sort_2 = to_sort[sort_length:]\n",
    "    \n",
    "    sorted_1 = insertion_sort(to_sort_1)\n",
    "    sorted_2 = insertion_sort(to_sort_2)\n",
    "    \n",
    "    s1_counter = 0\n",
    "    s2_counter = 0\n",
    "    position = 0\n",
    "    final_sort = []\n",
    "    \n",
    "    while s1_counter < len(sorted_1):\n",
    "        if sorted_1[s1_counter] <= sorted_2[s2_counter]:\n",
    "            final_sort.append(sorted_1[s1_counter])\n",
    "            s1_counter += 1\n",
    "        \n",
    "        else:\n",
    "            final_sort.append(sorted_2[s2_counter])\n",
    "            s2_counter += 1\n",
    "            \n",
    "        position += 1\n",
    "        print(final_sort)\n",
    "        \n",
    "    return final_sort\n",
    "    \n",
    "merge_sort(to_sort_asc.copy())"
   ]
  },
  {
   "cell_type": "code",
   "execution_count": null,
   "id": "b1b2644b-d09d-494f-b59d-a4bd7667ffbd",
   "metadata": {},
   "outputs": [],
   "source": []
  }
 ],
 "metadata": {
  "kernelspec": {
   "display_name": "Python 3",
   "language": "python",
   "name": "python3"
  },
  "language_info": {
   "codemirror_mode": {
    "name": "ipython",
    "version": 3
   },
   "file_extension": ".py",
   "mimetype": "text/x-python",
   "name": "python",
   "nbconvert_exporter": "python",
   "pygments_lexer": "ipython3",
   "version": "3.9.4"
  }
 },
 "nbformat": 4,
 "nbformat_minor": 5
}
